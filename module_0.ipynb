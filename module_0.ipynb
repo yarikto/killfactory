{
 "cells": [
  {
   "cell_type": "code",
   "execution_count": 19,
   "metadata": {},
   "outputs": [
    {
     "name": "stdout",
     "output_type": "stream",
     "text": [
      "Ваш алгоритм угадывает число в среднем за 5 попыток\n"
     ]
    },
    {
     "data": {
      "text/plain": [
       "5"
      ]
     },
     "execution_count": 19,
     "metadata": {},
     "output_type": "execute_result"
    }
   ],
   "source": [
    "import numpy as np\n",
    "\n",
    "def score_game(game_core):\n",
    "    '''Запускаем игру 1000 раз, чтобы узнать, как быстро игра угадывает число'''\n",
    "    count_ls = []\n",
    "    np.random.seed(1)  # фиксируем RANDOM SEED, чтобы ваш эксперимент был воспроизводим!\n",
    "    random_array = np.random.randint(1,101, size=(1000))\n",
    "    for number in random_array:\n",
    "        count_ls.append(game_core(number))\n",
    "    score = int(np.mean(count_ls))\n",
    "    print(f\"Ваш алгоритм угадывает число в среднем за {score} попыток\")\n",
    "    return(score)\n",
    "\n",
    "\n",
    "def game_core_v2(number):\n",
    "    '''Задаем интервал поиска и на каждой итерации сужаем его в 2 раза до \n",
    "    тех пор пока середина интервала не совпадет с искомым значением'''\n",
    "\n",
    "    count = 0\n",
    "    interval_start = 0\n",
    "    interval_end = 100\n",
    "    interval_test_value = round(interval_start + (interval_end - interval_start)/2)\n",
    "    \n",
    "    while number != interval_test_value:\n",
    "        interval_test_value = round(interval_start + (interval_end - interval_start)/2)\n",
    "        count+=1\n",
    "        if number > interval_test_value: \n",
    "            interval_start = interval_test_value\n",
    "        elif number < interval_test_value: \n",
    "            interval_end = interval_test_value\n",
    "\n",
    "   \n",
    "    return(count) # выход из цикла, если угадали\n",
    "\n",
    "score_game(game_core_v2)"
   ]
  }
 ],
 "metadata": {
  "kernelspec": {
   "display_name": "Python 3",
   "language": "python",
   "name": "python3"
  },
  "language_info": {
   "codemirror_mode": {
    "name": "ipython",
    "version": 3
   },
   "file_extension": ".py",
   "mimetype": "text/x-python",
   "name": "python",
   "nbconvert_exporter": "python",
   "pygments_lexer": "ipython3",
   "version": "3.8.5"
  }
 },
 "nbformat": 4,
 "nbformat_minor": 4
}
