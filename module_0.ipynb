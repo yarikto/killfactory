{
 "cells": [
  {
   "cell_type": "code",
   "execution_count": null,
   "metadata": {},
   "outputs": [],
   "source": [
    "from random import randint\n",
    "\n",
    "def binary_search():\n",
    "\n",
    "    count = 0                           \n",
    "    number = random.randint(1,101)   \n",
    "    print (\"Загадано число от 1 до 100\")\n",
    "    \n",
    "    value = int(input())\n",
    "\n",
    "    mid = 100//2\n",
    "    low = 0\n",
    "    high = 100\n",
    "\n",
    "    while mid != value and low <= high:\n",
    "        if value > mid:\n",
    "            low = mid + 1\n",
    "        else:\n",
    "            high = mid - 1\n",
    "        mid = (low + high) // 2\n",
    "        count += 1\n",
    "                \n",
    "        print(f\"Ваш алгоритм угадывает число в среднем за {score} попыток\")"
   ]
  }
 ],
 "metadata": {
  "kernelspec": {
   "display_name": "Python 3",
   "language": "python",
   "name": "python3"
  },
  "language_info": {
   "codemirror_mode": {
    "name": "ipython",
    "version": 3
   },
   "file_extension": ".py",
   "mimetype": "text/x-python",
   "name": "python",
   "nbconvert_exporter": "python",
   "pygments_lexer": "ipython3",
   "version": "3.8.5"
  }
 },
 "nbformat": 4,
 "nbformat_minor": 4
}
